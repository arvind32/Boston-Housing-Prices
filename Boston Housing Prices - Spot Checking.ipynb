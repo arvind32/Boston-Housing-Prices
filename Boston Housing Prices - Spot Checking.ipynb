{
 "cells": [
  {
   "cell_type": "code",
   "execution_count": 28,
   "metadata": {},
   "outputs": [],
   "source": [
    "import scipy\n",
    "import numpy\n",
    "import pandas\n",
    "import matplotlib\n",
    "import sklearn\n",
    "import csv\n",
    "from sklearn.preprocessing import MinMaxScaler, StandardScaler, Normalizer, Binarizer\n",
    "from sklearn.feature_selection import SelectKBest, f_classif, RFE\n",
    "from sklearn.linear_model import LogisticRegression, LinearRegression, Ridge, Lasso, ElasticNet\n",
    "from sklearn.decomposition import PCA\n",
    "from sklearn.ensemble import ExtraTreesClassifier\n",
    "from sklearn.model_selection import train_test_split,KFold, LeaveOneOut, cross_val_score\n",
    "from sklearn.metrics import confusion_matrix, classification_report\n",
    "from sklearn.neighbors import KNeighborsRegressor\n",
    "from sklearn.tree import DecisionTreeRegressor\n",
    "from sklearn.svm import SVR"
   ]
  },
  {
   "cell_type": "code",
   "execution_count": 4,
   "metadata": {},
   "outputs": [],
   "source": [
    "filename = 'housing.csv'\n",
    "names = ['CRIM', 'ZN', 'INDUS', 'CHAS', 'NOX', 'RM', 'AGE', 'DIS', 'RAD', 'TAX', 'PTRATIO',\n",
    "'B', 'LSTAT', 'MEDV']\n",
    "\n",
    "dataframe = pandas.read_csv(filename, delim_whitespace=True, names=names)\n",
    "array = dataframe.values\n",
    "\n",
    "#Separating input and output values\n",
    "X = array[:,0:13]\n",
    "Y = array[:,13]"
   ]
  },
  {
   "cell_type": "code",
   "execution_count": 11,
   "metadata": {},
   "outputs": [
    {
     "name": "stdout",
     "output_type": "stream",
     "text": [
      "MAE: -3.387 (0.667)\n",
      "MSE: -23.747 (11.143)\n",
      "R^2: 0.718 (0.099)\n"
     ]
    }
   ],
   "source": [
    "#K-fold split\n",
    "kfold = KFold(n_splits=10, random_state=7, shuffle=True)\n",
    "model1 = LinearRegression()\n",
    "\n",
    "\n",
    "#MAE Score\n",
    "resultsmae = cross_val_score(model1, X, Y, cv=kfold, scoring='neg_mean_absolute_error')\n",
    "print(\"MAE: %.3f (%.3f)\" % (resultsmae.mean(), resultsmae.std()))\n",
    "\n",
    "#MSE Score\n",
    "resultsmse = cross_val_score(model1, X, Y, cv=kfold, scoring='neg_mean_squared_error')\n",
    "print(\"MSE: %.3f (%.3f)\" % (resultsmse.mean(), resultsmse.std()))\n",
    "\n",
    "#R^2 Score\n",
    "resultsr2 = cross_val_score(model1, X, Y, cv=kfold, scoring='r2')\n",
    "print(\"R^2: %.3f (%.3f)\" % (resultsr2.mean(), resultsr2.std()))"
   ]
  },
  {
   "cell_type": "code",
   "execution_count": 29,
   "metadata": {},
   "outputs": [
    {
     "name": "stdout",
     "output_type": "stream",
     "text": [
      "Linear Regression MSE: -23.747 (11.143)\n",
      "Ridge Regression MSE: -23.890 (11.407)\n",
      "LASSO MSE: -28.746 (12.002)\n",
      "ElasticNet MSE: -27.908 (11.484)\n",
      "\n",
      "\n",
      "k-NN MSE: -38.852 (14.661)\n",
      "Decision Tree MSE: -21.227 (9.451)\n",
      "SVM MSE: -67.641 (26.525)\n"
     ]
    }
   ],
   "source": [
    "#Spot checking Regression Models\n",
    "\n",
    "#Linear Regression\n",
    "print(\"Linear Regression MSE: %.3f (%.3f)\" % (resultsmse.mean(), resultsmse.std()))\n",
    "\n",
    "#Ridge Regression\n",
    "model2 = Ridge()\n",
    "resultsr = cross_val_score(model2, X, Y, cv=kfold, scoring='neg_mean_squared_error')\n",
    "print(\"Ridge Regression MSE: %.3f (%.3f)\" % (resultsr.mean(), resultsr.std()))\n",
    "\n",
    "#LASSO\n",
    "model3 = Lasso()\n",
    "resultlass = cross_val_score(model3, X, Y, cv=kfold, scoring='neg_mean_squared_error')\n",
    "print(\"LASSO MSE: %.3f (%.3f)\" % (resultlass.mean(), resultlass.std()))\n",
    "\n",
    "#ElasticNet\n",
    "model4 = ElasticNet()\n",
    "resulten = cross_val_score(model4, X, Y, cv=kfold, scoring='neg_mean_squared_error')\n",
    "print(\"ElasticNet MSE: %.3f (%.3f)\" % (resulten.mean(), resulten.std()))\n",
    "\n",
    "\n",
    "#Non-Linear Methods\n",
    "\n",
    "#k-Nearest Neighbors\n",
    "model5 = KNeighborsRegressor()\n",
    "resultknn = cross_val_score(model5, X, Y, cv=kfold, scoring='neg_mean_squared_error')\n",
    "print(\"\\n\\nk-NN MSE: %.3f (%.3f)\" % (resultknn.mean(), resultknn.std()))\n",
    "\n",
    "#Decision Tree\n",
    "model6 = DecisionTreeRegressor()\n",
    "resultknn = cross_val_score(model6, X, Y, cv=kfold, scoring='neg_mean_squared_error')\n",
    "print(\"Decision Tree MSE: %.3f (%.3f)\" % (resultknn.mean(), resultknn.std()))\n",
    "\n",
    "#SVM for Regression\n",
    "model7 = SVR()\n",
    "resultknn = cross_val_score(model7, X, Y, cv=kfold, scoring='neg_mean_squared_error')\n",
    "print(\"SVM MSE: %.3f (%.3f)\" % (resultknn.mean(), resultknn.std()))"
   ]
  },
  {
   "cell_type": "code",
   "execution_count": null,
   "metadata": {},
   "outputs": [],
   "source": []
  }
 ],
 "metadata": {
  "kernelspec": {
   "display_name": "Python 3",
   "language": "python",
   "name": "python3"
  },
  "language_info": {
   "codemirror_mode": {
    "name": "ipython",
    "version": 3
   },
   "file_extension": ".py",
   "mimetype": "text/x-python",
   "name": "python",
   "nbconvert_exporter": "python",
   "pygments_lexer": "ipython3",
   "version": "3.7.7"
  }
 },
 "nbformat": 4,
 "nbformat_minor": 4
}
